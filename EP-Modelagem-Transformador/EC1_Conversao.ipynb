{
 "cells": [
  {
   "cell_type": "markdown",
   "metadata": {},
   "source": [
    "## Escola Politécnica da Universidade de São Paulo\n",
    "\n",
    "<img src=\"http://www.imagens.usp.br/wp-content/uploads/EP.jpg\" height=\"50\" width=\"200\">\n",
    "\n",
    "### PEA 3306 - Conversão Eletromecânica de Energia\n",
    "\n",
    "### Exercício Computacional 1\n",
    "\n",
    "#### Autores: Guilherme Marques (10335336), Lucas Penna Saraiva (9770566) e Stefan R. Raposo (NUSP)\n",
    "#### Professor Dr. Luiz Lebensztajn\n",
    "\n",
    "**Enunciado:**\n",
    "Um transformador monofásico abaixador de núcleo ferromagnético (suposto linear) possui os seguintes\n",
    "valores nominais: 400 kVA, 5.000/320 V, 50 Hz. São conhecidos seus parâmetros de curto circuito, como segue:\n",
    "\n",
    "• Enrolamento Primário: R1 = 0,5 (Ohm), L1 = 2,14 (mH) (Alta Tensão)\n",
    "\n",
    "• Enrolamento Secundário: R2 = 0,001 (Ohm), L2 = 4,3 (mH) (Baixa Tensão)\n",
    "\n",
    "Com o lado da alta tensão em vazio, esse transformador absorve corrente de 60 A e potência 2500 W sob tensão nominal no lado da baixa tensão.\n",
    "Neste trabalho, pede-se traçar as curvas características de desempenho deste transformador quando em carga: Rendimento e Regulação, quando este opera sob tensão nominal no secundário.\n",
    "\n",
    "passar o notebook p pdf:\n",
    "https://www.youtube.com/watch?v=edAXKvGJXUc\n",
    "\n",
    "## 1. Cálculo dos parâmetros do circuito equivalente do transformador real e linear\n",
    "\n",
    "### 1.1 Parâmetros em Comum (Rp e Xm)\n",
    "\n",
    "Dados do enunciado para o Ensaio em Vazio (condição em que o lado da Alta Tensão é aberto):\n",
    "\n",
    "- Po = 2500[W]\n",
    "- Io = 60 [A]\n",
    "- Vo = 320 [V] (tensão do lado BT)\n",
    "\n",
    "Com estes dados, podemos determinar a Reatância de Magnetização Xm e a Resistência de Perda Rp do transformador, conforme faremos abaixo.\n"
   ]
  },
  {
   "cell_type": "code",
   "execution_count": 32,
   "metadata": {},
   "outputs": [
    {
     "name": "stdout",
     "output_type": "stream",
     "text": [
      "A Resistẽncia de Perda Rp calculada é: 0.409600 [Ohm]\n",
      "A Reatância de Magnetização Xm calculada é: j0.639550 [Ohm]\n"
     ]
    }
   ],
   "source": [
    "import math\n",
    "\n",
    "Po = 2500 # [W]\n",
    "Io = 60 # [A]\n",
    "Vo = 32\n",
    "\n",
    "# Determinar a Resistência de Perda Rp\n",
    "\n",
    "Rp = (Vo**2)/Po\n",
    "\n",
    "print(\"A Resistẽncia de Perda Rp calculada é: %f [Ohm]\" % Rp)\n",
    "\n",
    "# Determinar Reatância de Magnetização\n",
    "\n",
    "# 1. Calculo do módulo da Corrente Ip que passa por Rp\n",
    "\n",
    "Ip = Vo/Rp\n",
    "\n",
    "# 2. Determinar o módulo Corrente de Magnetização Im (que passa pelo Indutor de Magnetização)\n",
    "# a partir da expressão soma vetorial de Ip + Im = Io\n",
    "\n",
    "Im = math.sqrt((Ip**2) - (Io**2))\n",
    "\n",
    "#3. Determinar o módulo da Reatância de Magnetização\n",
    "\n",
    "Xm = Vo/Im\n",
    "\n",
    "print(\"A Reatância de Magnetização Xm calculada é: j%f [Ohm]\" % Xm)"
   ]
  },
  {
   "cell_type": "markdown",
   "metadata": {},
   "source": [
    "### 1.2 Lado da Baixa Tensão\n",
    "\n",
    "Os dados fornecidos no enunciado são referentes aos parâmetros de curto-circuito. Assim, para a Baixa Tensão vale:\n",
    "\n",
    "- R2 = 0.001 [Ohm] (resistência do enrolamento 2)\n",
    "- L2 = 4.3E-6 [H] (indutância de dispersão 2)\n",
    "- Frequência nominal: 50 [Hz]\n",
    "\n",
    "A partir desses dados, podemos determinar L'd2 e R'2, ou seja, a Indutância de Dispersão 2 e a Resistência do Enrolamento 2 ambas refletidas no lado de Alta Tensão do transformador. Essas grandezas são refletidas pelo fator a = V2/V1."
   ]
  },
  {
   "cell_type": "code",
   "execution_count": 40,
   "metadata": {},
   "outputs": [
    {
     "name": "stdout",
     "output_type": "stream",
     "text": [
      "A Resistência do Enrolamento de Baixa Tensão refletida no lado de Alta Tensão R_2_linha é: 0.244141 [Ohm]\n",
      "A Reatância de Dispersão do Enrolamento de Baixa Tensão refletida no lado de Alta Tensão Xd_2_linha é: 0.329806 [Ohm]\n"
     ]
    }
   ],
   "source": [
    "R2 = 0.001  # [Ohm]\n",
    "L2 = 4.3e-6 # [H]\n",
    "V1 = 5000   # [V]\n",
    "V2 = 320    # [V]\n",
    "\n",
    "# Determinar o valor de a (relação de transformação)\n",
    "\n",
    "a = V1/V2\n",
    "\n",
    "# Determinar R'2\n",
    "\n",
    "R_2_linha = (a**2)*R2\n",
    "\n",
    "# Determinar L'2\n",
    "\n",
    "L_2_linha = (a**2)*L2\n",
    "\n",
    "# Determinar Xd2' ( |Xd2'| = wL)\n",
    "\n",
    "Xd_2_linha = 2*math.pi*50*L_2_linha\n",
    "\n",
    "print(\"A Resistência do Enrolamento de Baixa Tensão refletida no lado de Alta Tensão R_2_linha é: %f [Ohm]\" % R_2_linha)\n",
    "print(\"A Reatância de Dispersão do Enrolamento de Baixa Tensão refletida no lado de Alta Tensão Xd_2_linha é: %f [Ohm]\" % Xd_2_linha)"
   ]
  },
  {
   "cell_type": "markdown",
   "metadata": {},
   "source": [
    "### 1.3 Lado da Alta Tensão\n",
    "\n",
    "No circuito equivalente, os parâmetros da Alta Tensão são os mesmos fornecidos pelo enunciado (referentes ao enrolamento 1). Isso ocorre pois esses parâmetros não têm necessidade de serem refletidos. Dessa forma:\n",
    "\n",
    "- R1 = 0.5 [Ohm] (Resistência de Dispersão do enrolamento 1)\n",
    "- L1 = 2.14 [mH] (Indutância de Dispersão do enrolamento 1)"
   ]
  },
  {
   "cell_type": "code",
   "execution_count": 42,
   "metadata": {},
   "outputs": [
    {
     "name": "stdout",
     "output_type": "stream",
     "text": [
      "A Reatância de Dispersão do Enrolamento de Alta Tensão é: 0.672301 [Ohm]\n"
     ]
    }
   ],
   "source": [
    "R1 = 0.5\n",
    "\n",
    "# Determinando a Reatância de Dispersão 1 Xd1 baseado em L1:\n",
    "\n",
    "L1 = 2.14e-3\n",
    "\n",
    "Xd1 = 2*math.pi*50*L1\n",
    "\n",
    "print(\"A Reatância de Dispersão do Enrolamento de Alta Tensão é: %f [Ohm]\" % Xd1)"
   ]
  },
  {
   "cell_type": "markdown",
   "metadata": {},
   "source": [
    "### 1.4 Esboço do Modelo de Circuito Equivalente para o Transformador Real\n",
    "\n",
    "<img src='circuito1.png'>"
   ]
  },
  {
   "cell_type": "markdown",
   "metadata": {},
   "source": [
    "### 1.5 Tabela dos parâmetros do Circuito Equivalente para o Transformador Real"
   ]
  },
  {
   "cell_type": "code",
   "execution_count": null,
   "metadata": {},
   "outputs": [],
   "source": []
  }
 ],
 "metadata": {
  "kernelspec": {
   "display_name": "Python 3",
   "language": "python",
   "name": "python3"
  },
  "language_info": {
   "codemirror_mode": {
    "name": "ipython",
    "version": 3
   },
   "file_extension": ".py",
   "mimetype": "text/x-python",
   "name": "python",
   "nbconvert_exporter": "python",
   "pygments_lexer": "ipython3",
   "version": "3.5.2"
  }
 },
 "nbformat": 4,
 "nbformat_minor": 2
}
