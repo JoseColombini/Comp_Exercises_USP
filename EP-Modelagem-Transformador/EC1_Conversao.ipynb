{
 "cells": [
  {
   "cell_type": "markdown",
   "metadata": {},
   "source": [
    "## Escola Politécnica da Universidade de São Paulo\n",
    "\n",
    "<img src=\"http://www.imagens.usp.br/wp-content/uploads/EP.jpg\" height=\"50\" width=\"200\">\n",
    "\n",
    "### PEA 3306 - Conversão Eletromecânica de Energia\n",
    "\n",
    "### Exercício Computacional 1\n",
    "\n",
    "#### Autores: Guilherme Marques (10335336), Lucas Penna Saraiva (9770566) e Stefan R. Raposo (NUSP)\n",
    "#### Professor Dr. Luiz Lebensztajn\n",
    "\n",
    "**Enunciado:**\n",
    "Um transformador monofásico abaixador de núcleo ferromagnético (suposto linear) possui os seguintes\n",
    "valores nominais: 400 kVA, 5.000/320 V, 50 Hz. São conhecidos seus parâmetros de curto circuito, como segue:\n",
    "\n",
    "• Enrolamento Primário: R1 = 0,5 (Ohm), L1 = 2,14 (mH) (Alta Tensão)\n",
    "\n",
    "• Enrolamento Secundário: R2 = 0,001 (Ohm), L2 = 4,3 (mH) (Baixa Tensão)\n",
    "\n",
    "Com o lado da alta tensão em vazio, esse transformador absorve corrente de 60 A e potência 2500 W sob tensão nominal no lado da baixa tensão.\n",
    "Neste trabalho, pede-se traçar as curvas características de desempenho deste transformador quando em carga: Rendimento e Regulação, quando este opera sob tensão nominal no secundário.\n",
    "\n",
    "## 1. Cálculo dos parâmetros do circuito equivalente do transformador real e linear\n",
    "\n",
    "### 1.1 Parâmetros em Comum (Rp e Xm)\n",
    "\n",
    "Dados do enunciado para o Ensaio em Vazio (condição em que o lado da Alta Tensão é aberto):\n",
    "\n",
    "- Po = 2500[W]\n",
    "- Io = 60 [A]\n",
    "- Vo = 320 [V] (tensão do lado BT)\n",
    "\n",
    "Com estes dados, podemos determinar a Reatância de Magnetização Xm e a Resistência de Perda Rp do transformador, conforme faremos abaixo.\n"
   ]
  },
  {
   "cell_type": "code",
   "execution_count": 39,
   "metadata": {},
   "outputs": [
    {
     "name": "stdout",
     "output_type": "stream",
     "text": [
      "A Resistência de Perda Rp refletida no primário calculada é: 10000.000000 [Ohm]\n",
      "\n",
      "A Reatância de Magnetização Xm refletida no primário calculada é: j1313.263598 [Ohm]\n"
     ]
    }
   ],
   "source": [
    "import math\n",
    "import numpy as np\n",
    "\n",
    "Po = 2500   # [W]\n",
    "Io = 60     # [A]\n",
    "Vo = 320    # [V]\n",
    "V1 = 5000   # [V]\n",
    "V2 = 320    # [V]\n",
    "\n",
    "# Determinar o valor de a (relação de transformação)\n",
    "# A carga está conectada no lado de baixa tensão, então o primário é o enrolamento 1 (alta tensão)\n",
    "\n",
    "a = V1/V2\n",
    "\n",
    "# Determinar a Resistência de Perda Rp\n",
    "\n",
    "Rp = (V2**2)/Po\n",
    "\n",
    "# Determinar Reatância de Magnetização\n",
    "\n",
    "# 1. Calculo do módulo da Corrente Ip que passa por Rp\n",
    "\n",
    "Ip = V2/Rp\n",
    "\n",
    "# 2. Determinar o módulo Corrente de Magnetização Im (que passa pelo Indutor de Magnetização)\n",
    "# a partir da expressão soma vetorial de Ip + Im = Io\n",
    "\n",
    "Im = math.sqrt((Io**2) - (Ip**2))\n",
    "\n",
    "#3. Determinar o módulo da Reatância de Magnetização\n",
    "\n",
    "Xm = Vo/Im\n",
    "\n",
    "## Refletir Rp e Xm pelo lado da alta tensão\n",
    "\n",
    "Rp_linha = Rp*(a**2)\n",
    "Xm_linha = Xm*(a**2)\n",
    "\n",
    "print(\"A Resistência de Perda Rp refletida no primário calculada é: %f [Ohm]\\n\" % Rp_linha)\n",
    "print(\"A Reatância de Magnetização Xm refletida no primário calculada é: j%f [Ohm]\" % Xm_linha)"
   ]
  },
  {
   "cell_type": "markdown",
   "metadata": {},
   "source": [
    "### 1.2 Lado da Baixa Tensão\n",
    "\n",
    "Os dados fornecidos no enunciado são referentes aos parâmetros de curto-circuito. Assim, para a Baixa Tensão vale:\n",
    "\n",
    "- R2 = 0.001 [Ohm] (resistência do enrolamento 2)\n",
    "- L2 = 4.3E-6 [H] (indutância de dispersão 2)\n",
    "- Frequência nominal: 50 [Hz]\n",
    "\n",
    "A partir desses dados, podemos determinar L'd2 e R'2, ou seja, a Indutância de Dispersão 2 e a Resistência do Enrolamento 2 ambas refletidas no lado de Alta Tensão do transformador. Essas grandezas são refletidas pelo fator a = V1/V2."
   ]
  },
  {
   "cell_type": "code",
   "execution_count": 40,
   "metadata": {},
   "outputs": [
    {
     "name": "stdout",
     "output_type": "stream",
     "text": [
      "A Resistência do Enrolamento de Baixa Tensão refletida no lado de Alta Tensão R_2_linha é: 0.2441 [Ohm]\n",
      "\n",
      "A Reatância de Dispersão do Enrolamento de Baixa Tensão refletida no lado de Alta Tensão Xd_2_linha é: 0.3298 [Ohm]\n"
     ]
    }
   ],
   "source": [
    "R2 = 0.001  # [Ohm]\n",
    "L2 = 4.3e-6 # [H]\n",
    "\n",
    "# Determinar R'2\n",
    "\n",
    "R_2_linha = (a**2)*R2\n",
    "\n",
    "# Determinar L'2\n",
    "\n",
    "L_2_linha = (a**2)*L2\n",
    "\n",
    "# Determinar Xd2' ( |Xd2'| = wL)\n",
    "\n",
    "Xd_2_linha = 2*math.pi*50*L_2_linha\n",
    "\n",
    "print(\"A Resistência do Enrolamento de Baixa Tensão refletida no lado de Alta Tensão R_2_linha é: %.4f [Ohm]\\n\" % R_2_linha)\n",
    "print(\"A Reatância de Dispersão do Enrolamento de Baixa Tensão refletida no lado de Alta Tensão Xd_2_linha é: %.4f [Ohm]\" % Xd_2_linha)"
   ]
  },
  {
   "cell_type": "markdown",
   "metadata": {},
   "source": [
    "### 1.3 Lado da Alta Tensão\n",
    "\n",
    "No circuito equivalente, os parâmetros da Alta Tensão são os mesmos fornecidos pelo enunciado (referentes ao enrolamento 1). Isso ocorre pois esses parâmetros não têm necessidade de serem refletidos. Dessa forma:\n",
    "\n",
    "- R1 = 0.5 [Ohm] (Resistência de Dispersão do enrolamento 1)\n",
    "- L1 = 2.14 [mH] (Indutância de Dispersão do enrolamento 1)"
   ]
  },
  {
   "cell_type": "code",
   "execution_count": 41,
   "metadata": {},
   "outputs": [
    {
     "name": "stdout",
     "output_type": "stream",
     "text": [
      "A Reatância de Dispersão do Enrolamento de Alta Tensão é: 0.6723 [Ohm]\n",
      "\n",
      "A resistência da bobina 1 é: 0.5000 [Ohm]\n"
     ]
    }
   ],
   "source": [
    "R1 = 0.5\n",
    "\n",
    "# Determinando a Reatância de Dispersão 1 Xd1 baseado em L1:\n",
    "\n",
    "L1 = 2.14e-3\n",
    "\n",
    "Xd1 = 2*math.pi*50*L1\n",
    "\n",
    "print(\"A Reatância de Dispersão do Enrolamento de Alta Tensão é: %.4f [Ohm]\\n\" % Xd1)\n",
    "print(\"A resistência da bobina 1 é: %.4f [Ohm]\" % R1)"
   ]
  },
  {
   "cell_type": "markdown",
   "metadata": {},
   "source": [
    "### 1.4 Esboço do Modelo de Circuito Equivalente para o Transformador Real\n",
    "\n",
    "\n",
    "### ARRUMAR DESENHO\n",
    "      \n",
    "<img src=\"Circ_Fluxo_Nao_Constante.png\">"
   ]
  },
  {
   "cell_type": "markdown",
   "metadata": {},
   "source": [
    "### 1.5 Tabela dos parâmetros do Circuito Equivalente para o Transformador Real"
   ]
  },
  {
   "cell_type": "code",
   "execution_count": 42,
   "metadata": {},
   "outputs": [
    {
     "data": {
      "text/html": [
       "<div>\n",
       "<style scoped>\n",
       "    .dataframe tbody tr th:only-of-type {\n",
       "        vertical-align: middle;\n",
       "    }\n",
       "\n",
       "    .dataframe tbody tr th {\n",
       "        vertical-align: top;\n",
       "    }\n",
       "\n",
       "    .dataframe thead th {\n",
       "        text-align: right;\n",
       "    }\n",
       "</style>\n",
       "<table border=\"1\" class=\"dataframe\">\n",
       "  <thead>\n",
       "    <tr style=\"text-align: right;\">\n",
       "      <th></th>\n",
       "      <th>Componente</th>\n",
       "      <th>Valor [Ohm]</th>\n",
       "    </tr>\n",
       "  </thead>\n",
       "  <tbody>\n",
       "    <tr>\n",
       "      <th>0</th>\n",
       "      <td>Rp’</td>\n",
       "      <td>10000.0000</td>\n",
       "    </tr>\n",
       "    <tr>\n",
       "      <th>1</th>\n",
       "      <td>Xm’</td>\n",
       "      <td>1313.2000</td>\n",
       "    </tr>\n",
       "    <tr>\n",
       "      <th>2</th>\n",
       "      <td>R2’</td>\n",
       "      <td>0.2441</td>\n",
       "    </tr>\n",
       "    <tr>\n",
       "      <th>3</th>\n",
       "      <td>X2’</td>\n",
       "      <td>0.3298</td>\n",
       "    </tr>\n",
       "    <tr>\n",
       "      <th>4</th>\n",
       "      <td>R1</td>\n",
       "      <td>0.5000</td>\n",
       "    </tr>\n",
       "    <tr>\n",
       "      <th>5</th>\n",
       "      <td>X1</td>\n",
       "      <td>0.6723</td>\n",
       "    </tr>\n",
       "  </tbody>\n",
       "</table>\n",
       "</div>"
      ],
      "text/plain": [
       "  Componente  Valor [Ohm]\n",
       "0        Rp’   10000.0000\n",
       "1        Xm’    1313.2000\n",
       "2        R2’       0.2441\n",
       "3        X2’       0.3298\n",
       "4         R1       0.5000\n",
       "5         X1       0.6723"
      ]
     },
     "execution_count": 42,
     "metadata": {},
     "output_type": "execute_result"
    }
   ],
   "source": [
    "import pandas as pd\n",
    "\n",
    "tabela_de_componentes = pd.read_csv('tabela.csv')\n",
    "tabela_de_componentes.head(7)"
   ]
  },
  {
   "cell_type": "markdown",
   "metadata": {},
   "source": [
    "## 2. Rendimento $\\eta$ e Regulação do Transformador $\\delta$\n",
    "\n",
    "### 2.1 Cálculo do Rendimento\n",
    "\n",
    "Primeiramente, o rendimento no transformador pode ser calculado da seguinte maneira:\n",
    "\n",
    "## $\\eta$ = $\\frac{Pu}{Pu + Pf + Pc}$\n",
    "\n",
    "Onde:\n",
    "\n",
    "- **P_**: Potência de saída do transformador (potência ativa que cai sobre a carga ligada ao TRAFO);\n",
    "\n",
    "- **Pf**: Perdas no núcleo (ferro), por correntes parasitas e por histerese; \n",
    "\n",
    "- **Pc**: Perdas no cobre: Pcu (perdas ôhmicas) \n",
    "\n",
    "Podemos reescrever a expressão do rendimento considerando os seguintes cálculos de perdas de potência ativa:\n",
    "\n",
    "- Potência de Saída: Pu = V2 $\\times$ I2$ \\times$ cos($\\phi$)\n",
    "\n",
    "Onde V2 é a tensão que cai sob a carga e é constante, pois se trata da tensão nominal de abaixamento do transformador;\n",
    "I2 é a corrente que passa pela carga e deverá ser variada;\n",
    "\n",
    "- Perda no núcleo: Pf = Rp $\\times$ Ip²\n",
    "\n",
    "As perdas no núcleo podem ser determinadas a partir dos parâmetros do circuito equivalente Rp (Resistência de Perda no Núcleo) e a corrente Ip (corrente que passa pelo Rp), ambos calculados acima.\n",
    "\n",
    "Além disso, considera-se que as perdas no núcleo se mantenham constante, independentemente da variação da corrente I2 da carga;\n",
    "\n",
    "- Perdas no cobre: Pcu = (R2') $\\times$ (I2')² + (R1) $\\times$ (I1)²\n",
    "\n",
    "Dessa forma, a expressão pode ser reescrita como:\n",
    "\n",
    "## $\\eta$ = $\\frac{Potencia_U}{Potencia_U + Perda_C + Perda_F}$\n",
    "\n",
    "A Potência Útil em plena carga (nominal) é:\n",
    "\n",
    "P_útil = 400kVA;\n",
    "\n",
    "Como deve-se variá-la de 30% a 150%, então:\n",
    "\n",
    "P_min = 120kVA\n",
    "\n",
    "P_max = 600 kVa"
   ]
  },
  {
   "cell_type": "code",
   "execution_count": 43,
   "metadata": {},
   "outputs": [],
   "source": [
    "### Determinar o vetor de razão entre potência nominal e potência útil\n",
    "Potencia_Sobre_Nominal = []\n",
    "Rendimento = []\n",
    "\n",
    "potencia_util = 400000\n",
    "\n",
    "Pmin = int(0.3*potencia_util)\n",
    "Pmax = int(1.5*potencia_util)\n",
    "\n",
    "for potencia_variada in range(Pmin, Pmax):\n",
    "    \n",
    "    Potencia_Sobre_Nominal.append(potencia_variada/potencia_util)\n",
    "    \n",
    "## Determinar o vetor de rendimento para cada potência \n",
    "\n",
    "cos_fi = -0.8\n",
    "    \n",
    "for potencia_variada in range(Pmin, Pmax):\n",
    "    \n",
    "    I_2_linha = potencia_variada/(V2*a*cos_fi)\n",
    "\n",
    "    potencia_ferro = Rp*(Ip**2) ## aprox. constante p/ baixas frequências\n",
    "    \n",
    "    Im_linha = V1/Xm_linha # Considerando que a tensão que caia sobre a Indutância de Magnetização seja a tensão do primário\n",
    "    \n",
    "    I1 = math.sqrt((I_2_linha**2)+(Im_linha**2))\n",
    "    \n",
    "    potencia_cobre = 2*R_2_linha * (I_2_linha**2)\n",
    "    \n",
    "    eta = (potencia_variada)/(potencia_variada + potencia_ferro + potencia_cobre)*100\n",
    "    \n",
    "    Rendimento.append(eta)\n",
    "    \n",
    "Potencia_Sobre_Nominal = np.array(Potencia_Sobre_Nominal)\n",
    "Rendimento = np.array(Rendimento)"
   ]
  },
  {
   "cell_type": "code",
   "execution_count": 44,
   "metadata": {
    "scrolled": true
   },
   "outputs": [
    {
     "data": {
      "text/plain": [
       "[<matplotlib.lines.Line2D at 0x7f54b1a5fda0>]"
      ]
     },
     "execution_count": 44,
     "metadata": {},
     "output_type": "execute_result"
    },
    {
     "data": {
      "image/png": "[encoded data removed]",
      "text/plain": [
       "<Figure size 432x288 with 1 Axes>"
      ]
     },
     "metadata": {},
     "output_type": "display_data"
    }
   ],
   "source": [
    "import matplotlib.pyplot as plt\n",
    "%matplotlib inline\n",
    "\n",
    "## em posse dos valores de Rendimento, vamos plotar o gráfico\n",
    "plt.title(\"Rendimento em % por potência fornecida em % da nominal\")\n",
    "plt.xlabel(\"Potência/Potência Nominal\")\n",
    "plt.ylabel(\"Rendimento em %\")\n",
    "plt.grid(True)\n",
    "plt.plot(Potencia_Sobre_Nominal, Rendimento)"
   ]
  },
  {
   "cell_type": "code",
   "execution_count": 45,
   "metadata": {},
   "outputs": [
    {
     "name": "stdout",
     "output_type": "stream",
     "text": [
      "O máximo rendimento do transformador é: 98.283066\n"
     ]
    }
   ],
   "source": [
    "Max_Rendimento = Rendimento.max()\n",
    "print(\"O máximo rendimento do transformador é: %f\" % Max_Rendimento)"
   ]
  },
  {
   "cell_type": "markdown",
   "metadata": {},
   "source": [
    "### 2.2 Cálculo da Regulação\n",
    "\n",
    "O cálculo da regulação é dado por:\n",
    "\n",
    "## $\\beta$ = $\\frac{V2O-Vcarga}{Vcarga}$\n",
    "\n",
    "Em que V20 é a tensão no secundário com os terminais da carga em aberto e Vcarga é a tensão que cai sobre a carga."
   ]
  },
  {
   "cell_type": "code",
   "execution_count": 60,
   "metadata": {},
   "outputs": [],
   "source": [
    "regulacao = []\n",
    "\n",
    "Z2 = complex(R2, 2*math.pi*50*L2)\n",
    "\n",
    "fi = np.arccos(cos_fi)\n",
    "\n",
    "V20 = complex(320*cos_fi, 320*np.sin(fi))\n",
    "\n",
    "for potencia_variada in range(Pmin, Pmax):\n",
    "    \n",
    "    I2 = potencia_variada/V20\n",
    "    \n",
    "    Zcarga = 320/I2\n",
    "    \n",
    "    Vcarga = 320*(Zcarga/(Z2+Zcarga))\n",
    "    \n",
    "    r = (320 - Vcarga)/Vcarga*100\n",
    "    \n",
    "    r = np.real(r)\n",
    "    \n",
    "    regulacao.append(r)\n",
    "    \n",
    "regulacao = np.array(regulacao)"
   ]
  },
  {
   "cell_type": "code",
   "execution_count": 61,
   "metadata": {},
   "outputs": [
    {
     "data": {
      "text/plain": [
       "[<matplotlib.lines.Line2D at 0x7f54b1994a20>]"
      ]
     },
     "execution_count": 61,
     "metadata": {},
     "output_type": "execute_result"
    },
    {
     "data": {
      "image/png": "[encoded data removed]",
      "text/plain": [
       "<Figure size 432x288 with 1 Axes>"
      ]
     },
     "metadata": {},
     "output_type": "display_data"
    }
   ],
   "source": [
    "plt.title(\"Regulação em % por potência fornecida em % da nominal\")\n",
    "plt.xlabel(\"Potência/Potência Nominal\")\n",
    "plt.ylabel(\"Regulação em %\")\n",
    "plt.grid(True)\n",
    "plt.plot(Potencia_Sobre_Nominal, regulacao)\n",
    "\n",
    "### VERIFICAR ESSE GRÁFICO"
   ]
  },
  {
   "cell_type": "markdown",
   "metadata": {},
   "source": [
    "## 3. Modelo de Fluxo Constante"
   ]
  },
  {
   "cell_type": "markdown",
   "metadata": {},
   "source": [
    "### 3.1 Circuito Equivalente de Fluxo Constante\n",
    "\n",
    "No modelo de fluxo constante, muda-se a posição da resistência R1 e do indutor de dispersão L1. Assim, o desenho do circuito equivalente é o seguinte:\n",
    "\n",
    "<img src=\"Circ_Fluxo_Constante.png\">"
   ]
  },
  {
   "cell_type": "markdown",
   "metadata": {},
   "source": [
    "### 3.2 Cálculo do Rendimento no circuito de Fluxo Constante"
   ]
  },
  {
   "cell_type": "code",
   "execution_count": 48,
   "metadata": {},
   "outputs": [],
   "source": [
    "Rendimento_Const = []\n",
    "\n",
    "for potencia_variada in range(Pmin, Pmax):\n",
    "    \n",
    "    I_2_linha = potencia_variada/(V2*a*cos_fi)\n",
    "\n",
    "    potencia_ferro = Rp*(Ip**2) ## aprox. constante p/ baixas frequências\n",
    "        \n",
    "    potencia_cobre = R_2_linha * (I_2_linha**2) + R1 * (I_2_linha**2)\n",
    "    \n",
    "    eta = (potencia_variada)/(potencia_variada + potencia_ferro + potencia_cobre)*100\n",
    "    \n",
    "    Rendimento_Const.append(eta)\n",
    "    \n",
    "Rendimento_Const = np.array(Rendimento_Const)"
   ]
  },
  {
   "cell_type": "code",
   "execution_count": 49,
   "metadata": {},
   "outputs": [
    {
     "data": {
      "text/plain": [
       "[<matplotlib.lines.Line2D at 0x7f54b04bc0b8>]"
      ]
     },
     "execution_count": 49,
     "metadata": {},
     "output_type": "execute_result"
    },
    {
     "data": {
      "image/png": "[encoded data removed]",
      "text/plain": [
       "<Figure size 432x288 with 1 Axes>"
      ]
     },
     "metadata": {},
     "output_type": "display_data"
    }
   ],
   "source": [
    "plt.title(\"Rendimento em % por potência fornecida em % da nominal\")\n",
    "plt.xlabel(\"Potência/Potência Nominal\")\n",
    "plt.ylabel(\"Rendimento em %\")\n",
    "plt.grid(True)\n",
    "plt.plot(Potencia_Sobre_Nominal, Rendimento_Const, \"Orange\")"
   ]
  },
  {
   "cell_type": "markdown",
   "metadata": {},
   "source": [
    "### 3.3 Regulação no modelo de Fluxo Constante"
   ]
  },
  {
   "cell_type": "code",
   "execution_count": 50,
   "metadata": {},
   "outputs": [],
   "source": [
    "regulacao_Const = []\n",
    "\n",
    "Zp = Rp_linha*complex(0,Xm_linha)/(complex(Rp_linha, Xm_linha))\n",
    "\n",
    "Zserie = complex(R1, Xd1) + complex(R_2_linha, Xd_2_linha)\n",
    "\n",
    "V20 = complex(5000*cos_fi, 5000*np.sin(fi))\n",
    "\n",
    "for potencia_variada in range(Pmin, Pmax):\n",
    "    \n",
    "    I2 = potencia_variada/V20\n",
    "    \n",
    "    Zcarga = 5000/I2\n",
    "    \n",
    "    Zserie = Zcarga*Zserie/(Zserie+Zcarga)\n",
    "    \n",
    "    Vcarga = 5000*(Zcarga/(Zserie+Zp))\n",
    "    \n",
    "    r = (5000 - Vcarga)/Vcarga\n",
    "    \n",
    "    r = np.real(r)\n",
    "    \n",
    "    regulacao_Const.append(r)\n",
    "    \n",
    "regulacao_Const = np.array(regulacao_Const)"
   ]
  },
  {
   "cell_type": "code",
   "execution_count": 51,
   "metadata": {},
   "outputs": [
    {
     "data": {
      "text/plain": [
       "[<matplotlib.lines.Line2D at 0x7f54b04f7da0>]"
      ]
     },
     "execution_count": 51,
     "metadata": {},
     "output_type": "execute_result"
    },
    {
     "data": {
      "image/png": "[encoded data removed]",
      "text/plain": [
       "<Figure size 432x288 with 1 Axes>"
      ]
     },
     "metadata": {},
     "output_type": "display_data"
    }
   ],
   "source": [
    "plt.title(\"Regulação em % por potência fornecida em % da nominal\")\n",
    "plt.xlabel(\"Potência/Potência Nominal\")\n",
    "plt.ylabel(\"Regulação em %\")\n",
    "plt.grid(True)\n",
    "plt.plot(Potencia_Sobre_Nominal, regulacao_Const, \"Orange\")"
   ]
  },
  {
   "cell_type": "markdown",
   "metadata": {},
   "source": [
    "### 3.4 Comparação de Resultados\n",
    "\n",
    "Em azul, tem-se as curva do rendimento e da regulação para o modelo de fluxo não constante. Em laranja, tem-se as curva do rendimento e da regulação para o modelo de fluxo constante."
   ]
  },
  {
   "cell_type": "code",
   "execution_count": 52,
   "metadata": {},
   "outputs": [
    {
     "data": {
      "text/plain": [
       "[<matplotlib.lines.Line2D at 0x7f54b0555cc0>]"
      ]
     },
     "execution_count": 52,
     "metadata": {},
     "output_type": "execute_result"
    },
    {
     "data": {
      "image/png": "[encoded data removed]",
      "text/plain": [
       "<Figure size 432x288 with 1 Axes>"
      ]
     },
     "metadata": {},
     "output_type": "display_data"
    }
   ],
   "source": [
    "plt.title(\"Rendimento em % por potência fornecida em % da nominal\")\n",
    "plt.xlabel(\"Potência/Potência Nominal\")\n",
    "plt.ylabel(\"Rendimento em %\")\n",
    "plt.grid(True)\n",
    "plt.plot(Potencia_Sobre_Nominal, Rendimento)\n",
    "plt.plot(Potencia_Sobre_Nominal, Rendimento_Const)"
   ]
  },
  {
   "cell_type": "code",
   "execution_count": 59,
   "metadata": {},
   "outputs": [
    {
     "name": "stdout",
     "output_type": "stream",
     "text": [
      "[0.00123409 0.0012341  0.00123411 ... 0.00617042 0.00617043 0.00617044]\n"
     ]
    },
    {
     "data": {
      "text/plain": [
       "[<matplotlib.lines.Line2D at 0x7f54b03593c8>]"
      ]
     },
     "execution_count": 59,
     "metadata": {},
     "output_type": "execute_result"
    },
    {
     "data": {
      "image/png": "[encoded data removed]",
      "text/plain": [
       "<Figure size 432x288 with 1 Axes>"
      ]
     },
     "metadata": {},
     "output_type": "display_data"
    }
   ],
   "source": [
    "print(regulacao)\n",
    "\n",
    "plt.title(\"Regulação em % por potência fornecida em % da nominal\")\n",
    "plt.xlabel(\"Potência/Potência Nominal\")\n",
    "plt.ylabel(\"Regulação em %\")\n",
    "plt.grid(True)\n",
    "plt.plot(Potencia_Sobre_Nominal, regulacao)\n",
    "plt.plot(Potencia_Sobre_Nominal, regulacao_Const)"
   ]
  },
  {
   "cell_type": "markdown",
   "metadata": {},
   "source": [
    "## 4. Conclusões\n",
    "\n",
    "### Modelos adotados\n",
    "\n",
    "Para se efetuar o cálculo do rendimento no modelo de fluxo não constante, adotou-se a seguinte estratégia: considerou-se as perdas no ferro constante (devido à baixa frequência (50 Hz)), independente da variação da carga. Além disso, para efeito de simplificação nos cálculos, considerou-se a resistência equivalente no cobre como (2 x R2). Assim, conseguiu-se chegar em um modelo aproximado para o cálculo do rendimento.\n",
    "\n",
    "Para efetuar o cálculo da regulação no modelo de fluxo não constante,  considerou-se a tensão na carga em aberto como V = 320V, utilizando o modelo inicial do transformador para realizar a análise. Assim, para calcular o Vcarga, descontou-se a tensão que cai sobre a impedância de dispersão.\n",
    "\n",
    "No modelo de fluxo constante, o cálculo do rendimento levou em conta que a corrente que passa por R1 e R2' é a mesma. Dessa forma, a resistência equivalente do cobre para essa configuração é R1 + R2. Dessa forma, chegou-se a um modelo de cálculo de rendimento.\n",
    "\n",
    "Para a regulação, utilizou-se a mesma ideia: descontou-se as quedas de tensão nas duas impedâncias de dispersão que estão em série.\n",
    "\n",
    "\n",
    "### Comparações\n",
    "\n",
    "Comparando-se as curvas dos modelos de fluxo não constante e fluxo constante, nota-se a diferença entre os rendimentos calculados. No modelo de fluxo constante, o rendimento é sempre menor do que o do modelo de fluxo não constante, conforme a curva anterior. Em paralelo, a regulação no modelo de fluxo não constante é menor que aquela do modelo de fluxo constante. Com isso, podemos concluir que o transformador de fluxo não constante tem menos perdas que aquele de fluxo constante."
   ]
  }
 ],
 "metadata": {
  "kernelspec": {
   "display_name": "Python 3",
   "language": "python",
   "name": "python3"
  },
  "language_info": {
   "codemirror_mode": {
    "name": "ipython",
    "version": 3
   },
   "file_extension": ".py",
   "mimetype": "text/x-python",
   "name": "python",
   "nbconvert_exporter": "python",
   "pygments_lexer": "ipython3",
   "version": "3.5.2"
  }
 },
 "nbformat": 4,
 "nbformat_minor": 2
}
